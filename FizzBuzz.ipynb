{
 "cells": [
  {
   "cell_type": "markdown",
   "metadata": {},
   "source": [
    "# Clean Code: FizzBuzz\n",
    "\n",
    "For a coding interview, great candidates don't just write working code with the optimal Big O running time (and space usage). They also write clean code: code that is readable, well-structured, and maintainable.\n",
    "\n",
    "Even a coding question as simple as FizzBuzz can serve as a great example of how to write clean code, not just working code."
   ]
  },
  {
   "cell_type": "markdown",
   "metadata": {},
   "source": [
    "## 1. Problem\n",
    "\n",
    "Here is the setup for FizzBuzz:\n",
    "\n",
    "> Write a program that prints the numbers 1 to 100. For numbers that are divisible by 3, print Fizz. For number that are divisible by 5, print Buzz. For numbers that are divisible by both 3 and 5, print FizzBuzz.\n",
    "\n",
    "Let's assume that we're using Python, and that this code is being written in a main method:\n",
    "\n",
    "```python\n",
    "def main():\n",
    "    pass # TODO: Implement me.\n",
    "```\n",
    "\n",
    "After this problem has been solved, we will also introduce a few tweaks to the original problem, in order to see how the solution can adapt to those tweaks."
   ]
  },
  {
   "cell_type": "markdown",
   "metadata": {},
   "source": [
    "## 2. Normal Solution\n",
    "\n",
    "Here's one solution for FizzBuzz:"
   ]
  },
  {
   "cell_type": "code",
   "execution_count": 1,
   "metadata": {},
   "outputs": [],
   "source": [
    "def main_normal():\n",
    "    for n in range(1, 101):\n",
    "        if n % 3 == 0 and n % 5 == 0:\n",
    "            print(\"FizzBuzz\")\n",
    "        elif n % 3 == 0:\n",
    "            print(\"Fizz\")\n",
    "        elif n % 5 == 0:\n",
    "            print(\"Buzz\")\n",
    "        else:\n",
    "            print(n)"
   ]
  },
  {
   "cell_type": "markdown",
   "metadata": {},
   "source": [
    "You can uncomment the following block if you want to run this code and verify that it works:"
   ]
  },
  {
   "cell_type": "code",
   "execution_count": 2,
   "metadata": {},
   "outputs": [],
   "source": [
    "# main_normal()"
   ]
  },
  {
   "cell_type": "markdown",
   "metadata": {},
   "source": [
    "For the purpose of determining if the candidate can code, this answer is acceptable; the candidate could then move on to other coding questions."
   ]
  },
  {
   "cell_type": "markdown",
   "metadata": {},
   "source": [
    "## 3. Clean Solution\n",
    "\n",
    "Next, let's try a cleaner solution for FizzBuzz:"
   ]
  },
  {
   "cell_type": "code",
   "execution_count": 3,
   "metadata": {},
   "outputs": [],
   "source": [
    "def main_clean():\n",
    "    for n in range(1, 101):\n",
    "        print(fizzbuzz(n))\n",
    "\n",
    "def fizzbuzz(n):\n",
    "    fizzes = n % 3 == 0\n",
    "    buzzes = n % 5 == 0\n",
    "    if fizzes and buzzes:\n",
    "        return \"FizzBuzz\"\n",
    "    if fizzes:\n",
    "        return \"Fizz\"\n",
    "    if buzzes:\n",
    "        return \"Buzz\"\n",
    "    return str(n)"
   ]
  },
  {
   "cell_type": "markdown",
   "metadata": {},
   "source": [
    "You can uncomment the following block if you want to run this code and verify that it works:"
   ]
  },
  {
   "cell_type": "code",
   "execution_count": 4,
   "metadata": {},
   "outputs": [],
   "source": [
    "# main_clean()"
   ]
  },
  {
   "cell_type": "markdown",
   "metadata": {},
   "source": [
    "Intuitively, you can see that this solution is much cleaner, but let's dive into this solution more to explain why it's cleaner and why that matters&mdash;both for more complex coding questions and for real-life projects."
   ]
  },
  {
   "cell_type": "markdown",
   "metadata": {},
   "source": [
    "### Readability\n",
    "\n",
    "Writing code that others can easily read and understand is an important consideration. Typically, your code will be reviewed by at least one peer before it is committed, and others may have to modify this code later. That includes yourself; you don't want to revisit your code months later and react this way:\n",
    "\n",
    "![Gandalf: \"I have no memory of this place.\"](nomemory.jpeg)\n",
    "\n",
    "For FizzBuzz, the clean solution had separate lines to define the variables `fizzes` and `buzzes`. Let's compare the readability of one line:\n",
    "\n",
    "**Normal Solution**\n",
    "\n",
    "```python\n",
    "if n % 3 == 0 and n % 5 == 0:\n",
    "```\n",
    "\n",
    "**Clean Solution**\n",
    "\n",
    "```python\n",
    "if fizzes and buzzes:\n",
    "```\n",
    "\n",
    "Clearly the latter solution is the much more readable one."
   ]
  },
  {
   "cell_type": "markdown",
   "metadata": {},
   "source": [
    "### DRY: Don't Repeat Yourself\n",
    "\n",
    "Let's make our first tweak to the original problem:\n",
    "\n",
    "> Tweak: What if we printed Fizz for multiples of 7?\n",
    "\n",
    "Let's go through both solutions and identify the lines of code that have to change:\n",
    "\n",
    "**Normal Solution**\n",
    "\n",
    "```python\n",
    "        if n % 3 == 0 and n % 5 == 0:\n",
    "        elif n % 3 == 0:\n",
    "```\n",
    "\n",
    "**Clean Solution**\n",
    "\n",
    "```python\n",
    "    fizzes = n % 3 == 0\n",
    "```\n",
    "\n",
    "This is an application of the DRY principle \\[**D**on't **R**epeat **Y**ourself\\]. In the clean solution, we only had to update the line of code that defines `fizzes`. In the normal solution, the expression `n % 3 == 0` was repeated twice, so we had to update each copy.\n",
    "\n",
    "The DRY principle can also come up with blocks of code. If you find yourself writing the same block of code in multiple places, you probably should move that block of code into a separate function. Write the logic once in that function, and then let others call that function as many times as they want.\n",
    "\n",
    "In real life, a project will often have a lot of code, to the point where it's hard to keep track of all the code. If you have multiple copies of the same code, and you later have to change that code, you may end up changing some but not all of the copies, which obviously leads to bugs."
   ]
  },
  {
   "cell_type": "markdown",
   "metadata": {},
   "source": [
    "### Functional Decomposition\n",
    "\n",
    "For any task, you often will want to break it down into various sub-tasks, and you often will write a separate function for each sub-task. Additionally, some of these functions can and will be reused.\n",
    "\n",
    "Even for FizzBuzz, we can identify one sub-task: determining which string to print for a single number. We implemented this sub-task in a separate function, `fizzbuzz()`, which contains the core logic for this coding question.\n",
    "\n",
    "The resulting code is also much more readable as well. Both `main()` and `fizzbuzz()` are fairly short functions&mdash;short functions also tend to be more readable functions&mdash;and each function is very readable.\n",
    "\n",
    "**A Note on Comments**\n",
    "\n",
    "Yes, adding comments can help others read your code, but don't let comments become a substitute for well-structured code with strong functional decomposition. Well-structured code is often more readable than a very long function with lots of comments. For each function, you can add a single comment explaining it if necessary (though occasionally you may also need a comment or two inside the function itself)."
   ]
  },
  {
   "cell_type": "markdown",
   "metadata": {},
   "source": [
    "### Function Boundaries and Reusability\n",
    "\n",
    "Defining the boundary between functions is a subtle but important design decision, one that can affect the reusability of the code.\n",
    "\n",
    "For `fizzbuzz()`, we chose to return the string, instead of printing it. Let's look at another tweak to see why this was the correct decision:\n",
    "\n",
    "> Tweak: What if we wrote the output to a file instead of printing it?\n",
    "\n",
    "Let's look at the code for the new solution:"
   ]
  },
  {
   "cell_type": "code",
   "execution_count": 5,
   "metadata": {},
   "outputs": [],
   "source": [
    "def main_file():\n",
    "    with open(\"fizzbuzz.txt\", \"w\") as f:\n",
    "        for n in range(1, 101):\n",
    "            f.write(fizzbuzz(n))\n",
    "            f.write(\"\\n\")"
   ]
  },
  {
   "cell_type": "markdown",
   "metadata": {},
   "source": [
    "You can uncomment the following block if you want run this variant:"
   ]
  },
  {
   "cell_type": "code",
   "execution_count": 6,
   "metadata": {},
   "outputs": [],
   "source": [
    "# main_file()"
   ]
  },
  {
   "cell_type": "markdown",
   "metadata": {},
   "source": [
    "Here, we were able to reuse `fizzbuzz()` as-is. If `fizzbuzz()` had instead printed the output, we would not have been able to reuse it here."
   ]
  },
  {
   "cell_type": "markdown",
   "metadata": {},
   "source": [
    "### Testability\n",
    "\n",
    "As a corollary of the previous point, let's look at a very important tweak:\n",
    "\n",
    "> Tweak: Write tests for your code.\n",
    "\n",
    "In a coding interview, you will often explain how you would test your code and provide a list of test cases, but you often won't write any code here. In the real world, though, you would actually write these tests.\n",
    "\n",
    "For FizzBuzz, let's write some ad-hoc tests for the `fizzbuzz()` function. (In the real world, we would use Python's [`unittest`](https://docs.python.org/3/library/unittest.html) framework.)"
   ]
  },
  {
   "cell_type": "code",
   "execution_count": 7,
   "metadata": {},
   "outputs": [],
   "source": [
    "def run_fizzbuzz_test(n, expected_text):\n",
    "    passes = test_fizzbuzz(n, expected_text)\n",
    "    _print_test_result(n, passes)\n",
    "\n",
    "def test_fizzbuzz(n, expected_text):\n",
    "    text = fizzbuzz(n)\n",
    "    return text == expected_text\n",
    "\n",
    "def _print_test_result(n, passes):\n",
    "    result = \"PASS\" if passes else \"FAIL\"\n",
    "    message = \"[{:s}] fizzbuzz({:d})\".format(result, n)\n",
    "    print(message)"
   ]
  },
  {
   "cell_type": "code",
   "execution_count": 8,
   "metadata": {},
   "outputs": [
    {
     "name": "stdout",
     "output_type": "stream",
     "text": [
      "[PASS] fizzbuzz(6)\n",
      "[PASS] fizzbuzz(20)\n",
      "[PASS] fizzbuzz(45)\n",
      "[PASS] fizzbuzz(7)\n"
     ]
    }
   ],
   "source": [
    "run_fizzbuzz_test(6, \"Fizz\")\n",
    "run_fizzbuzz_test(20, \"Buzz\")\n",
    "run_fizzbuzz_test(45, \"FizzBuzz\")\n",
    "run_fizzbuzz_test(7, \"7\")"
   ]
  },
  {
   "cell_type": "markdown",
   "metadata": {},
   "source": [
    "Thanks to the careful design of `fizzbuzz()`, we could easily test this function. In general, functions that return strings are much easier to test than functions that print strings. Testing the normal solution, however, would be much, much harder."
   ]
  }
 ],
 "metadata": {
  "kernelspec": {
   "display_name": "Python 3",
   "language": "python",
   "name": "python3"
  },
  "language_info": {
   "codemirror_mode": {
    "name": "ipython",
    "version": 3
   },
   "file_extension": ".py",
   "mimetype": "text/x-python",
   "name": "python",
   "nbconvert_exporter": "python",
   "pygments_lexer": "ipython3",
   "version": "3.8.5"
  }
 },
 "nbformat": 4,
 "nbformat_minor": 4
}
